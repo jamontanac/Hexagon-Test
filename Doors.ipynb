{
 "cells": [
  {
   "cell_type": "code",
   "execution_count": 3,
   "metadata": {},
   "outputs": [],
   "source": [
    "def Doors_solution(number):\n",
    "    doors= dict((i+1,False) for i in range(number))\n",
    "    door_state={True:'Open',False:'Closed'}\n",
    "    for i in range(number):\n",
    "        #print('step number',i+1,end='\\r')\n",
    "        step=i+1\n",
    "        aux=step\n",
    "        #print('step number {}'.format(i+1))\n",
    "        while aux <=number:\n",
    "            #print(aux)\n",
    "            doors[aux] = not doors[aux] \n",
    "            aux+=step\n",
    "        #print([(i,door_state[doors[i]]) for i in doors.keys()])\n",
    "    closed_number=len([i for i in doors.keys() if doors[i]==False])\n",
    "    print('Number of Closed doors',closed_number)\n",
    "    print('Number of Open doors',number - closed_number)\n",
    "    #for i in doors.keys():\n",
    "    #    if doors[i] == True:\n",
    "    #        print(i, 'is', door_state[doors[i]])\n",
    "    #    else:\n",
    "    #        print(i, 'is', door_state[doors[i]])"
   ]
  },
  {
   "cell_type": "code",
   "execution_count": 8,
   "metadata": {},
   "outputs": [
    {
     "name": "stdout",
     "output_type": "stream",
     "text": [
      "Number of Closed doors 1998586\n",
      "Number of Open doors 1414\n",
      "CPU times: user 12.9 s, sys: 140 ms, total: 13 s\n",
      "Wall time: 13.1 s\n"
     ]
    }
   ],
   "source": [
    "%%time\n",
    "Doors_solution(2000000)"
   ]
  }
 ],
 "metadata": {
  "kernelspec": {
   "display_name": "Python 3",
   "language": "python",
   "name": "python3"
  },
  "language_info": {
   "codemirror_mode": {
    "name": "ipython",
    "version": 3
   },
   "file_extension": ".py",
   "mimetype": "text/x-python",
   "name": "python",
   "nbconvert_exporter": "python",
   "pygments_lexer": "ipython3",
   "version": "3.7.3"
  }
 },
 "nbformat": 4,
 "nbformat_minor": 2
}
